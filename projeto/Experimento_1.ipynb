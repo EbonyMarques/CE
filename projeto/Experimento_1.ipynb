{
  "nbformat": 4,
  "nbformat_minor": 0,
  "metadata": {
    "colab": {
      "provenance": []
    },
    "kernelspec": {
      "name": "python3",
      "display_name": "Python 3"
    },
    "language_info": {
      "name": "python"
    }
  },
  "cells": [
    {
      "cell_type": "code",
      "execution_count": null,
      "metadata": {
        "colab": {
          "base_uri": "https://localhost:8080/"
        },
        "id": "QYBgH2GIckC8",
        "outputId": "62b3b5a2-4fb0-43f2-8275-6f3f5b42efbe"
      },
      "outputs": [
        {
          "output_type": "stream",
          "name": "stdout",
          "text": [
            "Looking in indexes: https://pypi.org/simple, https://us-python.pkg.dev/colab-wheels/public/simple/\n",
            "Collecting deap\n",
            "  Downloading deap-1.3.3-cp37-cp37m-manylinux_2_5_x86_64.manylinux1_x86_64.manylinux_2_17_x86_64.manylinux2014_x86_64.whl (139 kB)\n",
            "\u001b[K     |████████████████████████████████| 139 kB 8.7 MB/s \n",
            "\u001b[?25hRequirement already satisfied: numpy in /usr/local/lib/python3.7/dist-packages (from deap) (1.21.6)\n",
            "Installing collected packages: deap\n",
            "Successfully installed deap-1.3.3\n"
          ]
        }
      ],
      "source": [
        "!pip install deap"
      ]
    },
    {
      "cell_type": "code",
      "source": [
        "import pandas as pd\n",
        "import numpy as np\n",
        "import random\n",
        "import warnings\n",
        "import sklearn\n",
        "from sklearn.model_selection import train_test_split\n",
        "from sklearn.linear_model import LogisticRegression\n",
        "from sklearn.preprocessing import OneHotEncoder\n",
        "from sklearn.metrics import classification_report, precision_score, accuracy_score, recall_score, f1_score\n",
        "from imblearn.under_sampling import RandomUnderSampler\n",
        "from sklearn.neural_network import MLPClassifier\n",
        "from deap import base, creator, tools, algorithms"
      ],
      "metadata": {
        "id": "bd5JtEvJcqNz"
      },
      "execution_count": null,
      "outputs": []
    },
    {
      "cell_type": "code",
      "source": [
        "warnings.filterwarnings('ignore')"
      ],
      "metadata": {
        "id": "b5A2Yp70dA1Z"
      },
      "execution_count": null,
      "outputs": []
    },
    {
      "cell_type": "code",
      "source": [
        "df = pd.read_parquet('enade_cenario_1_3_faixas.parquet.gzip')\n",
        "df.head()"
      ],
      "metadata": {
        "colab": {
          "base_uri": "https://localhost:8080/",
          "height": 490
        },
        "id": "fKTqyND4cvB5",
        "outputId": "1d23367b-b692-41cb-ef6e-bb4d2c98b25a"
      },
      "execution_count": null,
      "outputs": [
        {
          "output_type": "execute_result",
          "data": {
            "text/plain": [
              "        REGIAO_IES             SEXO          COR_RACA  \\\n",
              "0  REGIAO_IES: Sul  SEXO: Masculino  COR_RACA: Branca   \n",
              "1  REGIAO_IES: Sul   SEXO: Feminino  COR_RACA: Branca   \n",
              "2  REGIAO_IES: Sul   SEXO: Feminino  COR_RACA: Branca   \n",
              "3  REGIAO_IES: Sul   SEXO: Feminino  COR_RACA: Branca   \n",
              "4  REGIAO_IES: Sul   SEXO: Feminino  COR_RACA: Branca   \n",
              "\n",
              "                ESTADO_CIVIL  \\\n",
              "0  ESTADO_CIVIL: Solteiro(a)   \n",
              "1  ESTADO_CIVIL: Solteiro(a)   \n",
              "2  ESTADO_CIVIL: Solteiro(a)   \n",
              "3  ESTADO_CIVIL: Solteiro(a)   \n",
              "4  ESTADO_CIVIL: Solteiro(a)   \n",
              "\n",
              "                                      RENDA_FAMILIAR  \\\n",
              "0  RENDA_FAMILIAR: AtÃ© 1,5 salÃ¡rio mÃ­nimo (atÃ...   \n",
              "1  RENDA_FAMILIAR: De 3 a 4,5 salÃ¡rios mÃ­nimos ...   \n",
              "2  RENDA_FAMILIAR: AtÃ© 1,5 salÃ¡rio mÃ­nimo (atÃ...   \n",
              "3  RENDA_FAMILIAR: AtÃ© 1,5 salÃ¡rio mÃ­nimo (atÃ...   \n",
              "4  RENDA_FAMILIAR: De 10 a 30 salÃ¡rios mÃ­nimos ...   \n",
              "\n",
              "                    ESCOLARIDADE_PAI                   ESCOLARIDADE_MAE  \\\n",
              "0          ESCOLARIDADE_PAI: Nenhuma          ESCOLARIDADE_MAE: Nenhuma   \n",
              "1    ESCOLARIDADE_PAI: Ensino mÃ©dio  ESCOLARIDADE_MAE: Ensino superior   \n",
              "2    ESCOLARIDADE_PAI: Ensino mÃ©dio    ESCOLARIDADE_MAE: Ensino mÃ©dio   \n",
              "3          ESCOLARIDADE_PAI: Nenhuma          ESCOLARIDADE_MAE: Nenhuma   \n",
              "4  ESCOLARIDADE_PAI: Ensino superior  ESCOLARIDADE_MAE: Ensino superior   \n",
              "\n",
              "                                COMPANHIA_RESIDENCIA  \\\n",
              "0  COMPANHIA_RESIDENCIA: Em casa ou apartamento, ...   \n",
              "1  COMPANHIA_RESIDENCIA: Em casa ou apartamento, ...   \n",
              "2  COMPANHIA_RESIDENCIA: Em casa ou apartamento, ...   \n",
              "3  COMPANHIA_RESIDENCIA: Em casa ou apartamento, ...   \n",
              "4  COMPANHIA_RESIDENCIA: Em casa, apartamento ou ...   \n",
              "\n",
              "                            TIPO_ESCOLA_ENSINO_MEDIO  \\\n",
              "0  TIPO_ESCOLA_ENSINO_MEDIO: Todo ou a maior part...   \n",
              "1  TIPO_ESCOLA_ENSINO_MEDIO: Todo ou a maior part...   \n",
              "2  TIPO_ESCOLA_ENSINO_MEDIO: Todo ou a maior part...   \n",
              "3  TIPO_ESCOLA_ENSINO_MEDIO: Todo ou a maior part...   \n",
              "4  TIPO_ESCOLA_ENSINO_MEDIO: Todo ou a maior part...   \n",
              "\n",
              "                             MODALIDADE_ENSINO_MEDIO  ...  \\\n",
              "0  MODALIDADE_ENSINO_MEDIO: Ensino mÃ©dio tradici...  ...   \n",
              "1  MODALIDADE_ENSINO_MEDIO: Ensino mÃ©dio tradici...  ...   \n",
              "2  MODALIDADE_ENSINO_MEDIO: Ensino mÃ©dio tradici...  ...   \n",
              "3  MODALIDADE_ENSINO_MEDIO: Ensino mÃ©dio tradici...  ...   \n",
              "4  MODALIDADE_ENSINO_MEDIO: Ensino mÃ©dio tradici...  ...   \n",
              "\n",
              "         OFERTA_APOIO_GERAL        SITUACAO_TRABALHO  \\\n",
              "0  OFERTA_APOIO_GERAL: NÃ£o  SITUACAO_TRABALHO: NÃ£o   \n",
              "1  OFERTA_APOIO_GERAL: NÃ£o   SITUACAO_TRABALHO: Sim   \n",
              "2   OFERTA_APOIO_GERAL: Sim  SITUACAO_TRABALHO: NÃ£o   \n",
              "3  OFERTA_APOIO_GERAL: NÃ£o  SITUACAO_TRABALHO: NÃ£o   \n",
              "4   OFERTA_APOIO_GERAL: Sim   SITUACAO_TRABALHO: Sim   \n",
              "\n",
              "                                 SITUACAO_FINANCEIRA  \\\n",
              "0  SITUACAO_FINANCEIRA: NÃ£o tenho renda e meus g...   \n",
              "1  SITUACAO_FINANCEIRA: Tenho renda e contribuo p...   \n",
              "2  SITUACAO_FINANCEIRA: Tenho renda, mas recebo a...   \n",
              "3  SITUACAO_FINANCEIRA: NÃ£o tenho renda e meus g...   \n",
              "4  SITUACAO_FINANCEIRA: Tenho renda, mas recebo a...   \n",
              "\n",
              "                                   DEDICACAO_SEMANAL  \\\n",
              "0  DEDICACAO_SEMANAL: Nenhuma, apenas assisto Ã s...   \n",
              "1                  DEDICACAO_SEMANAL: De uma a trÃªs   \n",
              "2                DEDICACAO_SEMANAL: De quatro a sete   \n",
              "3  DEDICACAO_SEMANAL: Nenhuma, apenas assisto Ã s...   \n",
              "4                  DEDICACAO_SEMANAL: De uma a trÃªs   \n",
              "\n",
              "                GRAU_ACADEMICO_CURSO           REGIAO_ESCOLA_ENSINO_MEDIO  \\\n",
              "0  GRAU_ACADEMICO_CURSO: Bacharelado    REGIAO_ESCOLA_ENSINO_MEDIO: Norte   \n",
              "1  GRAU_ACADEMICO_CURSO: Bacharelado      REGIAO_ESCOLA_ENSINO_MEDIO: Sul   \n",
              "2  GRAU_ACADEMICO_CURSO: Bacharelado      REGIAO_ESCOLA_ENSINO_MEDIO: Sul   \n",
              "3  GRAU_ACADEMICO_CURSO: Bacharelado    REGIAO_ESCOLA_ENSINO_MEDIO: Norte   \n",
              "4  GRAU_ACADEMICO_CURSO: Bacharelado  REGIAO_ESCOLA_ENSINO_MEDIO: Sudeste   \n",
              "\n",
              "              GRANDE_AREA_CURSO  \\\n",
              "0  GRANDE_AREA_CURSO: ServiÃ§os   \n",
              "1  GRANDE_AREA_CURSO: ServiÃ§os   \n",
              "2  GRANDE_AREA_CURSO: ServiÃ§os   \n",
              "3  GRANDE_AREA_CURSO: ServiÃ§os   \n",
              "4  GRANDE_AREA_CURSO: ServiÃ§os   \n",
              "\n",
              "         DIFERENCA_INICIO_GRADUACAO_FIM_ENSINO_MEDIO  \\\n",
              "0  DIFERENCA_INICIO_GRADUACAO_FIM_ENSINO_MEDIO: 2...   \n",
              "1  DIFERENCA_INICIO_GRADUACAO_FIM_ENSINO_MEDIO: 2...   \n",
              "2  DIFERENCA_INICIO_GRADUACAO_FIM_ENSINO_MEDIO: E...   \n",
              "3  DIFERENCA_INICIO_GRADUACAO_FIM_ENSINO_MEDIO: E...   \n",
              "4  DIFERENCA_INICIO_GRADUACAO_FIM_ENSINO_MEDIO: 2...   \n",
              "\n",
              "                   TEMPO_GRADUACAO_1                      FAIXA_ETARIA  \n",
              "0  TEMPO_GRADUACAO: Entre 2 e 4 anos  FAIXA_ETARIA: Entre 18 e 24 anos  \n",
              "1  TEMPO_GRADUACAO: Entre 5 e 7 anos  FAIXA_ETARIA: Entre 25 e 39 anos  \n",
              "2  TEMPO_GRADUACAO: Entre 2 e 4 anos  FAIXA_ETARIA: Entre 18 e 24 anos  \n",
              "3  TEMPO_GRADUACAO: Entre 5 e 7 anos  FAIXA_ETARIA: Entre 25 e 39 anos  \n",
              "4  TEMPO_GRADUACAO: Entre 2 e 4 anos  FAIXA_ETARIA: Entre 18 e 24 anos  \n",
              "\n",
              "[5 rows x 30 columns]"
            ],
            "text/html": [
              "\n",
              "  <div id=\"df-134d9834-8eb2-4283-8fcc-55fbfc4e4136\">\n",
              "    <div class=\"colab-df-container\">\n",
              "      <div>\n",
              "<style scoped>\n",
              "    .dataframe tbody tr th:only-of-type {\n",
              "        vertical-align: middle;\n",
              "    }\n",
              "\n",
              "    .dataframe tbody tr th {\n",
              "        vertical-align: top;\n",
              "    }\n",
              "\n",
              "    .dataframe thead th {\n",
              "        text-align: right;\n",
              "    }\n",
              "</style>\n",
              "<table border=\"1\" class=\"dataframe\">\n",
              "  <thead>\n",
              "    <tr style=\"text-align: right;\">\n",
              "      <th></th>\n",
              "      <th>REGIAO_IES</th>\n",
              "      <th>SEXO</th>\n",
              "      <th>COR_RACA</th>\n",
              "      <th>ESTADO_CIVIL</th>\n",
              "      <th>RENDA_FAMILIAR</th>\n",
              "      <th>ESCOLARIDADE_PAI</th>\n",
              "      <th>ESCOLARIDADE_MAE</th>\n",
              "      <th>COMPANHIA_RESIDENCIA</th>\n",
              "      <th>TIPO_ESCOLA_ENSINO_MEDIO</th>\n",
              "      <th>MODALIDADE_ENSINO_MEDIO</th>\n",
              "      <th>...</th>\n",
              "      <th>OFERTA_APOIO_GERAL</th>\n",
              "      <th>SITUACAO_TRABALHO</th>\n",
              "      <th>SITUACAO_FINANCEIRA</th>\n",
              "      <th>DEDICACAO_SEMANAL</th>\n",
              "      <th>GRAU_ACADEMICO_CURSO</th>\n",
              "      <th>REGIAO_ESCOLA_ENSINO_MEDIO</th>\n",
              "      <th>GRANDE_AREA_CURSO</th>\n",
              "      <th>DIFERENCA_INICIO_GRADUACAO_FIM_ENSINO_MEDIO</th>\n",
              "      <th>TEMPO_GRADUACAO_1</th>\n",
              "      <th>FAIXA_ETARIA</th>\n",
              "    </tr>\n",
              "  </thead>\n",
              "  <tbody>\n",
              "    <tr>\n",
              "      <th>0</th>\n",
              "      <td>REGIAO_IES: Sul</td>\n",
              "      <td>SEXO: Masculino</td>\n",
              "      <td>COR_RACA: Branca</td>\n",
              "      <td>ESTADO_CIVIL: Solteiro(a)</td>\n",
              "      <td>RENDA_FAMILIAR: AtÃ© 1,5 salÃ¡rio mÃ­nimo (atÃ...</td>\n",
              "      <td>ESCOLARIDADE_PAI: Nenhuma</td>\n",
              "      <td>ESCOLARIDADE_MAE: Nenhuma</td>\n",
              "      <td>COMPANHIA_RESIDENCIA: Em casa ou apartamento, ...</td>\n",
              "      <td>TIPO_ESCOLA_ENSINO_MEDIO: Todo ou a maior part...</td>\n",
              "      <td>MODALIDADE_ENSINO_MEDIO: Ensino mÃ©dio tradici...</td>\n",
              "      <td>...</td>\n",
              "      <td>OFERTA_APOIO_GERAL: NÃ£o</td>\n",
              "      <td>SITUACAO_TRABALHO: NÃ£o</td>\n",
              "      <td>SITUACAO_FINANCEIRA: NÃ£o tenho renda e meus g...</td>\n",
              "      <td>DEDICACAO_SEMANAL: Nenhuma, apenas assisto Ã s...</td>\n",
              "      <td>GRAU_ACADEMICO_CURSO: Bacharelado</td>\n",
              "      <td>REGIAO_ESCOLA_ENSINO_MEDIO: Norte</td>\n",
              "      <td>GRANDE_AREA_CURSO: ServiÃ§os</td>\n",
              "      <td>DIFERENCA_INICIO_GRADUACAO_FIM_ENSINO_MEDIO: 2...</td>\n",
              "      <td>TEMPO_GRADUACAO: Entre 2 e 4 anos</td>\n",
              "      <td>FAIXA_ETARIA: Entre 18 e 24 anos</td>\n",
              "    </tr>\n",
              "    <tr>\n",
              "      <th>1</th>\n",
              "      <td>REGIAO_IES: Sul</td>\n",
              "      <td>SEXO: Feminino</td>\n",
              "      <td>COR_RACA: Branca</td>\n",
              "      <td>ESTADO_CIVIL: Solteiro(a)</td>\n",
              "      <td>RENDA_FAMILIAR: De 3 a 4,5 salÃ¡rios mÃ­nimos ...</td>\n",
              "      <td>ESCOLARIDADE_PAI: Ensino mÃ©dio</td>\n",
              "      <td>ESCOLARIDADE_MAE: Ensino superior</td>\n",
              "      <td>COMPANHIA_RESIDENCIA: Em casa ou apartamento, ...</td>\n",
              "      <td>TIPO_ESCOLA_ENSINO_MEDIO: Todo ou a maior part...</td>\n",
              "      <td>MODALIDADE_ENSINO_MEDIO: Ensino mÃ©dio tradici...</td>\n",
              "      <td>...</td>\n",
              "      <td>OFERTA_APOIO_GERAL: NÃ£o</td>\n",
              "      <td>SITUACAO_TRABALHO: Sim</td>\n",
              "      <td>SITUACAO_FINANCEIRA: Tenho renda e contribuo p...</td>\n",
              "      <td>DEDICACAO_SEMANAL: De uma a trÃªs</td>\n",
              "      <td>GRAU_ACADEMICO_CURSO: Bacharelado</td>\n",
              "      <td>REGIAO_ESCOLA_ENSINO_MEDIO: Sul</td>\n",
              "      <td>GRANDE_AREA_CURSO: ServiÃ§os</td>\n",
              "      <td>DIFERENCA_INICIO_GRADUACAO_FIM_ENSINO_MEDIO: 2...</td>\n",
              "      <td>TEMPO_GRADUACAO: Entre 5 e 7 anos</td>\n",
              "      <td>FAIXA_ETARIA: Entre 25 e 39 anos</td>\n",
              "    </tr>\n",
              "    <tr>\n",
              "      <th>2</th>\n",
              "      <td>REGIAO_IES: Sul</td>\n",
              "      <td>SEXO: Feminino</td>\n",
              "      <td>COR_RACA: Branca</td>\n",
              "      <td>ESTADO_CIVIL: Solteiro(a)</td>\n",
              "      <td>RENDA_FAMILIAR: AtÃ© 1,5 salÃ¡rio mÃ­nimo (atÃ...</td>\n",
              "      <td>ESCOLARIDADE_PAI: Ensino mÃ©dio</td>\n",
              "      <td>ESCOLARIDADE_MAE: Ensino mÃ©dio</td>\n",
              "      <td>COMPANHIA_RESIDENCIA: Em casa ou apartamento, ...</td>\n",
              "      <td>TIPO_ESCOLA_ENSINO_MEDIO: Todo ou a maior part...</td>\n",
              "      <td>MODALIDADE_ENSINO_MEDIO: Ensino mÃ©dio tradici...</td>\n",
              "      <td>...</td>\n",
              "      <td>OFERTA_APOIO_GERAL: Sim</td>\n",
              "      <td>SITUACAO_TRABALHO: NÃ£o</td>\n",
              "      <td>SITUACAO_FINANCEIRA: Tenho renda, mas recebo a...</td>\n",
              "      <td>DEDICACAO_SEMANAL: De quatro a sete</td>\n",
              "      <td>GRAU_ACADEMICO_CURSO: Bacharelado</td>\n",
              "      <td>REGIAO_ESCOLA_ENSINO_MEDIO: Sul</td>\n",
              "      <td>GRANDE_AREA_CURSO: ServiÃ§os</td>\n",
              "      <td>DIFERENCA_INICIO_GRADUACAO_FIM_ENSINO_MEDIO: E...</td>\n",
              "      <td>TEMPO_GRADUACAO: Entre 2 e 4 anos</td>\n",
              "      <td>FAIXA_ETARIA: Entre 18 e 24 anos</td>\n",
              "    </tr>\n",
              "    <tr>\n",
              "      <th>3</th>\n",
              "      <td>REGIAO_IES: Sul</td>\n",
              "      <td>SEXO: Feminino</td>\n",
              "      <td>COR_RACA: Branca</td>\n",
              "      <td>ESTADO_CIVIL: Solteiro(a)</td>\n",
              "      <td>RENDA_FAMILIAR: AtÃ© 1,5 salÃ¡rio mÃ­nimo (atÃ...</td>\n",
              "      <td>ESCOLARIDADE_PAI: Nenhuma</td>\n",
              "      <td>ESCOLARIDADE_MAE: Nenhuma</td>\n",
              "      <td>COMPANHIA_RESIDENCIA: Em casa ou apartamento, ...</td>\n",
              "      <td>TIPO_ESCOLA_ENSINO_MEDIO: Todo ou a maior part...</td>\n",
              "      <td>MODALIDADE_ENSINO_MEDIO: Ensino mÃ©dio tradici...</td>\n",
              "      <td>...</td>\n",
              "      <td>OFERTA_APOIO_GERAL: NÃ£o</td>\n",
              "      <td>SITUACAO_TRABALHO: NÃ£o</td>\n",
              "      <td>SITUACAO_FINANCEIRA: NÃ£o tenho renda e meus g...</td>\n",
              "      <td>DEDICACAO_SEMANAL: Nenhuma, apenas assisto Ã s...</td>\n",
              "      <td>GRAU_ACADEMICO_CURSO: Bacharelado</td>\n",
              "      <td>REGIAO_ESCOLA_ENSINO_MEDIO: Norte</td>\n",
              "      <td>GRANDE_AREA_CURSO: ServiÃ§os</td>\n",
              "      <td>DIFERENCA_INICIO_GRADUACAO_FIM_ENSINO_MEDIO: E...</td>\n",
              "      <td>TEMPO_GRADUACAO: Entre 5 e 7 anos</td>\n",
              "      <td>FAIXA_ETARIA: Entre 25 e 39 anos</td>\n",
              "    </tr>\n",
              "    <tr>\n",
              "      <th>4</th>\n",
              "      <td>REGIAO_IES: Sul</td>\n",
              "      <td>SEXO: Feminino</td>\n",
              "      <td>COR_RACA: Branca</td>\n",
              "      <td>ESTADO_CIVIL: Solteiro(a)</td>\n",
              "      <td>RENDA_FAMILIAR: De 10 a 30 salÃ¡rios mÃ­nimos ...</td>\n",
              "      <td>ESCOLARIDADE_PAI: Ensino superior</td>\n",
              "      <td>ESCOLARIDADE_MAE: Ensino superior</td>\n",
              "      <td>COMPANHIA_RESIDENCIA: Em casa, apartamento ou ...</td>\n",
              "      <td>TIPO_ESCOLA_ENSINO_MEDIO: Todo ou a maior part...</td>\n",
              "      <td>MODALIDADE_ENSINO_MEDIO: Ensino mÃ©dio tradici...</td>\n",
              "      <td>...</td>\n",
              "      <td>OFERTA_APOIO_GERAL: Sim</td>\n",
              "      <td>SITUACAO_TRABALHO: Sim</td>\n",
              "      <td>SITUACAO_FINANCEIRA: Tenho renda, mas recebo a...</td>\n",
              "      <td>DEDICACAO_SEMANAL: De uma a trÃªs</td>\n",
              "      <td>GRAU_ACADEMICO_CURSO: Bacharelado</td>\n",
              "      <td>REGIAO_ESCOLA_ENSINO_MEDIO: Sudeste</td>\n",
              "      <td>GRANDE_AREA_CURSO: ServiÃ§os</td>\n",
              "      <td>DIFERENCA_INICIO_GRADUACAO_FIM_ENSINO_MEDIO: 2...</td>\n",
              "      <td>TEMPO_GRADUACAO: Entre 2 e 4 anos</td>\n",
              "      <td>FAIXA_ETARIA: Entre 18 e 24 anos</td>\n",
              "    </tr>\n",
              "  </tbody>\n",
              "</table>\n",
              "<p>5 rows × 30 columns</p>\n",
              "</div>\n",
              "      <button class=\"colab-df-convert\" onclick=\"convertToInteractive('df-134d9834-8eb2-4283-8fcc-55fbfc4e4136')\"\n",
              "              title=\"Convert this dataframe to an interactive table.\"\n",
              "              style=\"display:none;\">\n",
              "        \n",
              "  <svg xmlns=\"http://www.w3.org/2000/svg\" height=\"24px\"viewBox=\"0 0 24 24\"\n",
              "       width=\"24px\">\n",
              "    <path d=\"M0 0h24v24H0V0z\" fill=\"none\"/>\n",
              "    <path d=\"M18.56 5.44l.94 2.06.94-2.06 2.06-.94-2.06-.94-.94-2.06-.94 2.06-2.06.94zm-11 1L8.5 8.5l.94-2.06 2.06-.94-2.06-.94L8.5 2.5l-.94 2.06-2.06.94zm10 10l.94 2.06.94-2.06 2.06-.94-2.06-.94-.94-2.06-.94 2.06-2.06.94z\"/><path d=\"M17.41 7.96l-1.37-1.37c-.4-.4-.92-.59-1.43-.59-.52 0-1.04.2-1.43.59L10.3 9.45l-7.72 7.72c-.78.78-.78 2.05 0 2.83L4 21.41c.39.39.9.59 1.41.59.51 0 1.02-.2 1.41-.59l7.78-7.78 2.81-2.81c.8-.78.8-2.07 0-2.86zM5.41 20L4 18.59l7.72-7.72 1.47 1.35L5.41 20z\"/>\n",
              "  </svg>\n",
              "      </button>\n",
              "      \n",
              "  <style>\n",
              "    .colab-df-container {\n",
              "      display:flex;\n",
              "      flex-wrap:wrap;\n",
              "      gap: 12px;\n",
              "    }\n",
              "\n",
              "    .colab-df-convert {\n",
              "      background-color: #E8F0FE;\n",
              "      border: none;\n",
              "      border-radius: 50%;\n",
              "      cursor: pointer;\n",
              "      display: none;\n",
              "      fill: #1967D2;\n",
              "      height: 32px;\n",
              "      padding: 0 0 0 0;\n",
              "      width: 32px;\n",
              "    }\n",
              "\n",
              "    .colab-df-convert:hover {\n",
              "      background-color: #E2EBFA;\n",
              "      box-shadow: 0px 1px 2px rgba(60, 64, 67, 0.3), 0px 1px 3px 1px rgba(60, 64, 67, 0.15);\n",
              "      fill: #174EA6;\n",
              "    }\n",
              "\n",
              "    [theme=dark] .colab-df-convert {\n",
              "      background-color: #3B4455;\n",
              "      fill: #D2E3FC;\n",
              "    }\n",
              "\n",
              "    [theme=dark] .colab-df-convert:hover {\n",
              "      background-color: #434B5C;\n",
              "      box-shadow: 0px 1px 3px 1px rgba(0, 0, 0, 0.15);\n",
              "      filter: drop-shadow(0px 1px 2px rgba(0, 0, 0, 0.3));\n",
              "      fill: #FFFFFF;\n",
              "    }\n",
              "  </style>\n",
              "\n",
              "      <script>\n",
              "        const buttonEl =\n",
              "          document.querySelector('#df-134d9834-8eb2-4283-8fcc-55fbfc4e4136 button.colab-df-convert');\n",
              "        buttonEl.style.display =\n",
              "          google.colab.kernel.accessAllowed ? 'block' : 'none';\n",
              "\n",
              "        async function convertToInteractive(key) {\n",
              "          const element = document.querySelector('#df-134d9834-8eb2-4283-8fcc-55fbfc4e4136');\n",
              "          const dataTable =\n",
              "            await google.colab.kernel.invokeFunction('convertToInteractive',\n",
              "                                                     [key], {});\n",
              "          if (!dataTable) return;\n",
              "\n",
              "          const docLinkHtml = 'Like what you see? Visit the ' +\n",
              "            '<a target=\"_blank\" href=https://colab.research.google.com/notebooks/data_table.ipynb>data table notebook</a>'\n",
              "            + ' to learn more about interactive tables.';\n",
              "          element.innerHTML = '';\n",
              "          dataTable['output_type'] = 'display_data';\n",
              "          await google.colab.output.renderOutput(dataTable, element);\n",
              "          const docLink = document.createElement('div');\n",
              "          docLink.innerHTML = docLinkHtml;\n",
              "          element.appendChild(docLink);\n",
              "        }\n",
              "      </script>\n",
              "    </div>\n",
              "  </div>\n",
              "  "
            ]
          },
          "metadata": {},
          "execution_count": 7
        }
      ]
    },
    {
      "cell_type": "code",
      "source": [
        "enc = OneHotEncoder(handle_unknown='ignore', sparse = False)\n",
        "X = enc.fit_transform(df.drop('TEMPO_GRADUACAO_1', axis = 1))\n",
        "y = df['TEMPO_GRADUACAO_1']"
      ],
      "metadata": {
        "id": "fVDxLv1zcwNI"
      },
      "execution_count": null,
      "outputs": []
    },
    {
      "cell_type": "code",
      "source": [
        "rus = RandomUnderSampler(random_state=0)\n",
        "X, y = rus.fit_resample(X, y)"
      ],
      "metadata": {
        "id": "0D32gYkxc045"
      },
      "execution_count": null,
      "outputs": []
    },
    {
      "cell_type": "code",
      "source": [
        "X"
      ],
      "metadata": {
        "colab": {
          "base_uri": "https://localhost:8080/"
        },
        "id": "AaJkBjwTV1JW",
        "outputId": "36c0b558-ec32-4d06-98ea-0a6cc97d39d3"
      },
      "execution_count": null,
      "outputs": [
        {
          "output_type": "execute_result",
          "data": {
            "text/plain": [
              "array([[0., 0., 0., ..., 0., 1., 0.],\n",
              "       [0., 0., 0., ..., 0., 1., 0.],\n",
              "       [0., 0., 0., ..., 0., 1., 0.],\n",
              "       ...,\n",
              "       [0., 1., 0., ..., 0., 1., 0.],\n",
              "       [0., 1., 0., ..., 0., 0., 1.],\n",
              "       [0., 0., 1., ..., 0., 1., 0.]])"
            ]
          },
          "metadata": {},
          "execution_count": 12
        }
      ]
    },
    {
      "cell_type": "code",
      "source": [
        "y"
      ],
      "metadata": {
        "colab": {
          "base_uri": "https://localhost:8080/"
        },
        "id": "vg4nQkUUWKwf",
        "outputId": "34febd43-d5e8-4195-f5b7-df75c383d131"
      },
      "execution_count": null,
      "outputs": [
        {
          "output_type": "execute_result",
          "data": {
            "text/plain": [
              "0          TEMPO_GRADUACAO: 8 anos ou mais\n",
              "1          TEMPO_GRADUACAO: 8 anos ou mais\n",
              "2          TEMPO_GRADUACAO: 8 anos ou mais\n",
              "3          TEMPO_GRADUACAO: 8 anos ou mais\n",
              "4          TEMPO_GRADUACAO: 8 anos ou mais\n",
              "                       ...                \n",
              "27565    TEMPO_GRADUACAO: Entre 5 e 7 anos\n",
              "27566    TEMPO_GRADUACAO: Entre 5 e 7 anos\n",
              "27567    TEMPO_GRADUACAO: Entre 5 e 7 anos\n",
              "27568    TEMPO_GRADUACAO: Entre 5 e 7 anos\n",
              "27569    TEMPO_GRADUACAO: Entre 5 e 7 anos\n",
              "Name: TEMPO_GRADUACAO_1, Length: 27570, dtype: object"
            ]
          },
          "metadata": {},
          "execution_count": 11
        }
      ]
    },
    {
      "cell_type": "code",
      "source": [
        "one_hot_encoded_frame =  pd.DataFrame(X, columns= enc.get_feature_names())"
      ],
      "metadata": {
        "id": "Wl86Rowjc2aX"
      },
      "execution_count": null,
      "outputs": []
    },
    {
      "cell_type": "code",
      "source": [
        "model = MLPClassifier()"
      ],
      "metadata": {
        "id": "LH7e_Ll2c59x"
      },
      "execution_count": null,
      "outputs": []
    },
    {
      "cell_type": "code",
      "source": [
        "X_train, X_test, y_train, y_test = train_test_split(one_hot_encoded_frame, y, test_size=0.3)"
      ],
      "metadata": {
        "id": "3YwIlat2c78X"
      },
      "execution_count": null,
      "outputs": []
    },
    {
      "cell_type": "code",
      "source": [
        "clf_full = model.fit(X_train,y_train)\n",
        "y_pred = clf_full.predict(X_test)\n",
        "accuracy = accuracy_score(y_test, y_pred)\n",
        "print(accuracy)"
      ],
      "metadata": {
        "colab": {
          "base_uri": "https://localhost:8080/"
        },
        "id": "eodnUXH_c9SQ",
        "outputId": "4b60752f-e801-442a-fb4d-619db7899969"
      },
      "execution_count": null,
      "outputs": [
        {
          "output_type": "stream",
          "name": "stdout",
          "text": [
            "0.5559182686494982\n"
          ]
        }
      ]
    },
    {
      "cell_type": "code",
      "source": [
        "# Create a fitness function with weight 1. \n",
        "# If it's a maximization function the weight should be positive else,for minimization, it should be negative \n",
        "# Here, we want to maximize accuracy\n",
        "creator.create(\"FitnessMax\", base.Fitness, weights=(1.0,))\n",
        "# Create blank individual as list with the fitness function defined above.\n",
        "# Individual is synonymous with chromosome\n",
        "creator.create(\"Individual\", list, fitness=creator.FitnessMax)\n",
        "# Declare the size of the chromosome. Here the size will be no. of variables\n",
        "ind_size = X_train.shape[1]\n",
        "# Declare the toolbox. Toolbox is a container which contains all the operators declared\n",
        "# To include any operator in the toolbox, it has to registered\n",
        "toolbox = base.Toolbox()\n",
        "# Register a random number generator function to randomly generate 1 or 0.\n",
        "# This will signify whether a variable is present or not in a particular individual. 1: Present; 0: Absent\n",
        "# 1/0 values, here, are alleles\n",
        "toolbox.register(\"attrib_bin\", random.randint, 0, 1)\n",
        "# Insert values in individuals which will have value from random number generator defined above\n",
        "# size of each individual will be no. of variables\n",
        "# Register the individuals in the toolbox\n",
        "# initRepeat argument is used to initialize the individual\n",
        "toolbox.register(\"individual\", tools.initRepeat, creator.Individual, toolbox.attrib_bin, n=ind_size)\n",
        "# Define a population with the individuals created above\n",
        "# Register the population in toolbox\n",
        "# initRepeat argument is used to initialize the population\n",
        "toolbox.register(\"population\", tools.initRepeat, list, toolbox.individual)"
      ],
      "metadata": {
        "id": "oa8egK02dFlp"
      },
      "execution_count": null,
      "outputs": []
    },
    {
      "cell_type": "code",
      "source": [
        "# ind1 = toolbox.individual()\n",
        "print(\"Total no. of variables/length of each chromosome = \", ind_size)"
      ],
      "metadata": {
        "colab": {
          "base_uri": "https://localhost:8080/"
        },
        "id": "ZGdC9t2pdJ66",
        "outputId": "f3c2a9d1-1598-4095-eb1d-7dcb5fbbb7c5"
      },
      "execution_count": null,
      "outputs": [
        {
          "output_type": "stream",
          "name": "stdout",
          "text": [
            "Total no. of variables/length of each chromosome =  116\n"
          ]
        }
      ]
    },
    {
      "cell_type": "code",
      "source": [
        "def evaluate(individual):\n",
        "    sum_features = np.sum(individual)\n",
        "    if sum_features == 0:\n",
        "        return 0.0\n",
        "    else:\n",
        "        sum_features = np.sum(individual)\n",
        "        collector_train = []\n",
        "        collector_test = []\n",
        "        for k in range(0, len(individual)):\n",
        "            if individual[k] == 1:\n",
        "                collector_train.append(X_train.iloc[:, k])\n",
        "                collector_test.append(X_test.iloc[:, k])\n",
        "        X_train1 = np.transpose(np.array(collector_train))\n",
        "        X_test1 = np.transpose(np.array(collector_test))\n",
        "        np.nan_to_num(X_train1, copy=False)\n",
        "        np.nan_to_num(y_train, copy=False)\n",
        "        np.nan_to_num(X_test1, copy=False)\n",
        "        np.nan_to_num(y_test, copy=False)\n",
        "        clf = model.fit(X_train1, y_train)\n",
        "        y_pred = clf.predict(X_test1)\n",
        "        # accuracy = (y_test['target'].tolist()==y_pred).sum() / y_test['target'].count()\n",
        "        accuracy = accuracy_score(y_test, y_pred)\n",
        "        return (accuracy,)"
      ],
      "metadata": {
        "id": "l8CwtelKdOmQ"
      },
      "execution_count": null,
      "outputs": []
    },
    {
      "cell_type": "code",
      "source": [
        "# Two points crossover\n",
        "toolbox.register(\"mate\", tools.cxTwoPoint)\n",
        "# Bit flip mutation The indpb argument is the probability of each attribute to be flipped\n",
        "toolbox.register(\"mutate\", tools.mutFlipBit, indpb=0.01)\n",
        "# Select the best individual among tournsize randomly chosen individuals\n",
        "toolbox.register(\"select\", tools.selTournament, tournsize=3)\n",
        "# Register the fitness function defined above in the toolbox\n",
        "toolbox.register(\"evaluate\", evaluate)\n",
        "# Define the statistics to be shown during the algorithm run.\n",
        "# We have selected minimum, maximum and average accuracy for each generation of run\n",
        "# Decision will, however, be taken based on maximum accuracy as defined earlier\n",
        "stats = tools.Statistics(lambda ind: ind.fitness.values)\n",
        "stats.register(\"Mean\", np.mean)\n",
        "stats.register(\"Max\", np.max)\n",
        "stats.register(\"Min\", np.min)"
      ],
      "metadata": {
        "id": "Tlrao8dpdQL5"
      },
      "execution_count": null,
      "outputs": []
    },
    {
      "cell_type": "code",
      "source": [
        "#Define initial population with its size. Here we are defining low population size (only 20) for demonstration\n",
        "pop = toolbox.population(n=20)\n",
        "# Below HallOfFame argument saves k best individual across all the generations\n",
        "# We will use this to determine our final variable combination. \n",
        "# We are taking only the first best one. It is possible to save k number of best solution in hof\n",
        "hof = tools.HallOfFame(1)\n",
        "# Now, let's run the algorithm with the most simple in-built method available in DEAP (eaSimple).\n",
        "# The arguments are as below:\n",
        "# pop: Population defined earlier\n",
        "# toolbox: toolbox containing all the operator defined\n",
        "# cxpb: The probability of mating two individuals.\n",
        "# mutpb: The probability of mutating an individual. We are keeping it high to show the impact\n",
        "# ngen: The number of generation.\n",
        "pop, log = algorithms.eaSimple(\n",
        "    pop, toolbox, cxpb=0.5, mutpb=0.3, ngen=30, halloffame=hof, stats=stats, verbose=True)\n",
        "# Get the best individual\n",
        "best = hof.items[0]\n",
        "#Print the best individual and it's accuracy\n",
        "print(\"Best Individual = \", best)\n",
        "print(\"Best Fitness = \", best.fitness.values[0])"
      ],
      "metadata": {
        "colab": {
          "base_uri": "https://localhost:8080/"
        },
        "id": "ULdNj1VHdRMA",
        "outputId": "351b2f45-2edd-451c-cb4c-4e58f8b9622a"
      },
      "execution_count": null,
      "outputs": [
        {
          "output_type": "stream",
          "name": "stdout",
          "text": [
            "gen\tnevals\tMean    \tMax     \tMin     \n",
            "0  \t20    \t0.545442\t0.588683\t0.467779\n",
            "1  \t16    \t0.565361\t0.585782\t0.491597\n",
            "2  \t13    \t0.568178\t0.579011\t0.551808\n",
            "3  \t15    \t0.571219\t0.58687 \t0.505985\n",
            "4  \t15    \t0.576986\t0.587112\t0.559787\n",
            "5  \t16    \t0.580583\t0.59219 \t0.569701\n",
            "6  \t16    \t0.582342\t0.597993\t0.56148 \n",
            "7  \t7     \t0.588381\t0.597993\t0.571636\n",
            "8  \t16    \t0.5847  \t0.595454\t0.57224 \n",
            "9  \t13    \t0.586023\t0.596059\t0.553742\n",
            "10 \t12    \t0.586997\t0.596059\t0.574296\n",
            "11 \t13    \t0.583454\t0.596905\t0.504292\n",
            "12 \t11    \t0.5871  \t0.594729\t0.571757\n",
            "13 \t16    \t0.586948\t0.595696\t0.567767\n",
            "14 \t12    \t0.589227\t0.599202\t0.576835\n",
            "15 \t13    \t0.588986\t0.597993\t0.575626\n",
            "16 \t15    \t0.590576\t0.601862\t0.569097\n",
            "17 \t10    \t0.592728\t0.601862\t0.574054\n",
            "18 \t13    \t0.591373\t0.601862\t0.581308\n",
            "19 \t14    \t0.591035\t0.601862\t0.580704\n",
            "20 \t18    \t0.587093\t0.59896 \t0.575626\n",
            "21 \t17    \t0.589542\t0.599202\t0.580462\n",
            "22 \t8     \t0.592329\t0.604643\t0.576351\n",
            "23 \t14    \t0.592746\t0.604643\t0.582155\n",
            "24 \t14    \t0.594136\t0.604643\t0.57889 \n",
            "25 \t14    \t0.595369\t0.606819\t0.573933\n",
            "26 \t12    \t0.595641\t0.607303\t0.569943\n",
            "27 \t16    \t0.591464\t0.606819\t0.580462\n",
            "28 \t12    \t0.595369\t0.606819\t0.578769\n",
            "29 \t15    \t0.594463\t0.606819\t0.582638\n",
            "30 \t8     \t0.596065\t0.606819\t0.583605\n",
            "Best Individual =  [1, 0, 0, 1, 1, 1, 0, 0, 0, 1, 0, 0, 0, 0, 1, 1, 1, 0, 0, 0, 1, 0, 1, 0, 0, 0, 0, 0, 1, 0, 1, 1, 0, 1, 1, 0, 1, 0, 1, 1, 1, 1, 1, 0, 1, 0, 1, 0, 0, 1, 0, 0, 0, 0, 0, 0, 1, 0, 0, 1, 0, 1, 1, 1, 0, 1, 1, 1, 1, 1, 1, 0, 1, 0, 1, 0, 1, 1, 1, 1, 0, 1, 0, 1, 1, 1, 0, 0, 1, 1, 0, 1, 1, 1, 0, 0, 0, 0, 0, 1, 1, 1, 1, 1, 1, 1, 1, 1, 1, 1, 0, 1, 1, 0, 1, 1]\n",
            "Best Fitness =  0.6073026236247129\n"
          ]
        }
      ]
    },
    {
      "cell_type": "code",
      "source": [
        "counter_1 = 0\n",
        "for i in best:\n",
        "  if i == 1:\n",
        "    counter_1 += 1\n",
        "print(counter_1)"
      ],
      "metadata": {
        "id": "aQoviwnFdSqI",
        "colab": {
          "base_uri": "https://localhost:8080/"
        },
        "outputId": "6cdaa062-0752-4bee-d4d7-b7e934bada64"
      },
      "execution_count": null,
      "outputs": [
        {
          "output_type": "stream",
          "name": "stdout",
          "text": [
            "65\n"
          ]
        }
      ]
    },
    {
      "cell_type": "code",
      "source": [
        "best_collector = []\n",
        "for k in range(0, 116):\n",
        "  if best[k] == 1:\n",
        "    best_collector.append(X_train.columns[k])\n",
        "print(\"No. of variables select = \", len(best_collector))\n",
        "print(best_collector)"
      ],
      "metadata": {
        "id": "gqp_7LDXdTs6",
        "colab": {
          "base_uri": "https://localhost:8080/"
        },
        "outputId": "616c652f-2081-4525-b17c-2fe5d2ea1088"
      },
      "execution_count": null,
      "outputs": [
        {
          "output_type": "stream",
          "name": "stdout",
          "text": [
            "No. of variables select =  65\n",
            "['x0_REGIAO_IES: Centro-Oeste', 'x0_REGIAO_IES: Sudeste', 'x0_REGIAO_IES: Sul', 'x1_SEXO: Feminino', 'x2_COR_RACA: IndÃ\\xadgena', 'x3_ESTADO_CIVIL: Outro', 'x3_ESTADO_CIVIL: Separado(a) judicialmente/divorciado(a)', 'x3_ESTADO_CIVIL: Solteiro(a)', 'x4_RENDA_FAMILIAR: De 1,5 a 3 salÃ¡rios mÃ\\xadnimos (R$ 1.431,01 a R$ 2.862,00)', 'x4_RENDA_FAMILIAR: De 3 a 4,5 salÃ¡rios mÃ\\xadnimos (R$ 2.862,01 a R$ 4.293,00)', 'x5_ESCOLARIDADE_PAI: Nenhuma', 'x6_ESCOLARIDADE_MAE: Ensino mÃ©dio', 'x6_ESCOLARIDADE_MAE: Ensino superior', 'x7_COMPANHIA_RESIDENCIA: Em alojamento universitÃ¡rio da prÃ³pria instituiÃ§Ã£o', 'x7_COMPANHIA_RESIDENCIA: Em casa ou apartamento, com cÃ´njuge e/ou filhos', 'x7_COMPANHIA_RESIDENCIA: Em casa ou apartamento, sozinho', 'x8_TIPO_ESCOLA_ENSINO_MEDIO: Todo ou a maior parte em escola privada', 'x8_TIPO_ESCOLA_ENSINO_MEDIO: Todo ou a maior parte em escola pÃºblica', 'x8_TIPO_ESCOLA_ENSINO_MEDIO: Todo ou parte no exterior', 'x9_MODALIDADE_ENSINO_MEDIO: EducaÃ§Ã£o de Jovens e Adultos (EJA) e/ou Supletivo', 'x9_MODALIDADE_ENSINO_MEDIO: Ensino mÃ©dio tradicional', 'x9_MODALIDADE_ENSINO_MEDIO: Profissionalizante magistÃ©rio (Curso Normal)', 'x10_CATEGORIA_ADMINISTRATIVA_IES: Estadual', 'x11_INFRAESTRUTURA_GERAL_IES: Discordo', 'x12_BIBLIOTECA_VIRTUAL_IES: NÃ£o se aplica', 'x13_BIBLIOTECA_FISICA_IES: Discordo', 'x13_BIBLIOTECA_FISICA_IES: NÃ£o se aplica', 'x13_BIBLIOTECA_FISICA_IES: NÃ£o sei responder', 'x14_TURNO_GRADUACAO: Integral', 'x14_TURNO_GRADUACAO: Noturno', 'x14_TURNO_GRADUACAO: Vespertino', 'x15_ACAO_AFIRMATIVA: NÃ£o', 'x15_ACAO_AFIRMATIVA: Sim', 'x16_BOLSA_ACADEMICA: NÃ£o', 'x16_BOLSA_ACADEMICA: Sim', 'x17_AUXILIO_PERMANENCIA: Sim', 'x18_INCENTIVO_GRADUACAO: Sim', 'x19_GRADUACAO_FAMILIA: Sim', 'x20_OFERTA_APOIO_GERAL: NÃ£o', 'x20_OFERTA_APOIO_GERAL: Sim', 'x21_SITUACAO_TRABALHO: NÃ£o', 'x22_SITUACAO_FINANCEIRA: NÃ£o tenho renda e meus gastos sÃ£o financiados pela famÃ\\xadlia, por outras pessoas e/ou por programas governamentais', 'x22_SITUACAO_FINANCEIRA: Tenho renda e nÃ£o preciso de ajuda para financiar meus gastos', 'x22_SITUACAO_FINANCEIRA: Tenho renda, mas recebo ajuda da famÃ\\xadlia ou de outras pessoas para financiar meus gastos', 'x23_DEDICACAO_SEMANAL: De oito a doze', 'x23_DEDICACAO_SEMANAL: Mais de doze', 'x23_DEDICACAO_SEMANAL: Nenhuma, apenas assisto Ã\\xa0s aulas', 'x24_GRAU_ACADEMICO_CURSO: Licenciatura', 'x25_REGIAO_ESCOLA_ENSINO_MEDIO: Centro-Oeste', 'x25_REGIAO_ESCOLA_ENSINO_MEDIO: Nordeste', 'x26_GRANDE_AREA_CURSO: Artes e humanidades', 'x26_GRANDE_AREA_CURSO: CiÃªncias naturais, matemÃ¡tica e estatÃ\\xadÂ\\xadstica', 'x26_GRANDE_AREA_CURSO: CiÃªncias sociais, jornalismo e informaÃ§Ã£o', 'x26_GRANDE_AREA_CURSO: ComputaÃ§Ã£o e Tecnologias da InformaÃ§Ã£o e ComunicaÃ§Ã£o (TIC)', 'x26_GRANDE_AREA_CURSO: EducaÃ§Ã£o', 'x26_GRANDE_AREA_CURSO: Engenharia, produÃ§Ã£o e construÃ§Ã£o', 'x26_GRANDE_AREA_CURSO: NegÃ³cios, administraÃ§Ã£o e direito', 'x26_GRANDE_AREA_CURSO: SaÃºde e bem-estar', 'x26_GRANDE_AREA_CURSO: ServiÃ§os', 'x27_DIFERENCA_INICIO_GRADUACAO_FIM_ENSINO_MEDIO: 10 anos ou mais', 'x27_DIFERENCA_INICIO_GRADUACAO_FIM_ENSINO_MEDIO: 2 anos ou menos', 'x27_DIFERENCA_INICIO_GRADUACAO_FIM_ENSINO_MEDIO: Entre 6 e 9 anos', 'x28_FAIXA_ETARIA: 60 anos ou mais', 'x28_FAIXA_ETARIA: Entre 25 e 39 anos', 'x28_FAIXA_ETARIA: Entre 40 e 59 anos']\n"
          ]
        }
      ]
    },
    {
      "cell_type": "code",
      "source": [
        "best_collector"
      ],
      "metadata": {
        "id": "QC0BYXN2dWiy",
        "colab": {
          "base_uri": "https://localhost:8080/"
        },
        "outputId": "03adaa7b-2855-49d7-e556-af977a402a79"
      },
      "execution_count": null,
      "outputs": [
        {
          "output_type": "execute_result",
          "data": {
            "text/plain": [
              "['x0_REGIAO_IES: Centro-Oeste',\n",
              " 'x0_REGIAO_IES: Sudeste',\n",
              " 'x0_REGIAO_IES: Sul',\n",
              " 'x1_SEXO: Feminino',\n",
              " 'x2_COR_RACA: IndÃ\\xadgena',\n",
              " 'x3_ESTADO_CIVIL: Outro',\n",
              " 'x3_ESTADO_CIVIL: Separado(a) judicialmente/divorciado(a)',\n",
              " 'x3_ESTADO_CIVIL: Solteiro(a)',\n",
              " 'x4_RENDA_FAMILIAR: De 1,5 a 3 salÃ¡rios mÃ\\xadnimos (R$ 1.431,01 a R$ 2.862,00)',\n",
              " 'x4_RENDA_FAMILIAR: De 3 a 4,5 salÃ¡rios mÃ\\xadnimos (R$ 2.862,01 a R$ 4.293,00)',\n",
              " 'x5_ESCOLARIDADE_PAI: Nenhuma',\n",
              " 'x6_ESCOLARIDADE_MAE: Ensino mÃ©dio',\n",
              " 'x6_ESCOLARIDADE_MAE: Ensino superior',\n",
              " 'x7_COMPANHIA_RESIDENCIA: Em alojamento universitÃ¡rio da prÃ³pria instituiÃ§Ã£o',\n",
              " 'x7_COMPANHIA_RESIDENCIA: Em casa ou apartamento, com cÃ´njuge e/ou filhos',\n",
              " 'x7_COMPANHIA_RESIDENCIA: Em casa ou apartamento, sozinho',\n",
              " 'x8_TIPO_ESCOLA_ENSINO_MEDIO: Todo ou a maior parte em escola privada',\n",
              " 'x8_TIPO_ESCOLA_ENSINO_MEDIO: Todo ou a maior parte em escola pÃºblica',\n",
              " 'x8_TIPO_ESCOLA_ENSINO_MEDIO: Todo ou parte no exterior',\n",
              " 'x9_MODALIDADE_ENSINO_MEDIO: EducaÃ§Ã£o de Jovens e Adultos (EJA) e/ou Supletivo',\n",
              " 'x9_MODALIDADE_ENSINO_MEDIO: Ensino mÃ©dio tradicional',\n",
              " 'x9_MODALIDADE_ENSINO_MEDIO: Profissionalizante magistÃ©rio (Curso Normal)',\n",
              " 'x10_CATEGORIA_ADMINISTRATIVA_IES: Estadual',\n",
              " 'x11_INFRAESTRUTURA_GERAL_IES: Discordo',\n",
              " 'x12_BIBLIOTECA_VIRTUAL_IES: NÃ£o se aplica',\n",
              " 'x13_BIBLIOTECA_FISICA_IES: Discordo',\n",
              " 'x13_BIBLIOTECA_FISICA_IES: NÃ£o se aplica',\n",
              " 'x13_BIBLIOTECA_FISICA_IES: NÃ£o sei responder',\n",
              " 'x14_TURNO_GRADUACAO: Integral',\n",
              " 'x14_TURNO_GRADUACAO: Noturno',\n",
              " 'x14_TURNO_GRADUACAO: Vespertino',\n",
              " 'x15_ACAO_AFIRMATIVA: NÃ£o',\n",
              " 'x15_ACAO_AFIRMATIVA: Sim',\n",
              " 'x16_BOLSA_ACADEMICA: NÃ£o',\n",
              " 'x16_BOLSA_ACADEMICA: Sim',\n",
              " 'x17_AUXILIO_PERMANENCIA: Sim',\n",
              " 'x18_INCENTIVO_GRADUACAO: Sim',\n",
              " 'x19_GRADUACAO_FAMILIA: Sim',\n",
              " 'x20_OFERTA_APOIO_GERAL: NÃ£o',\n",
              " 'x20_OFERTA_APOIO_GERAL: Sim',\n",
              " 'x21_SITUACAO_TRABALHO: NÃ£o',\n",
              " 'x22_SITUACAO_FINANCEIRA: NÃ£o tenho renda e meus gastos sÃ£o financiados pela famÃ\\xadlia, por outras pessoas e/ou por programas governamentais',\n",
              " 'x22_SITUACAO_FINANCEIRA: Tenho renda e nÃ£o preciso de ajuda para financiar meus gastos',\n",
              " 'x22_SITUACAO_FINANCEIRA: Tenho renda, mas recebo ajuda da famÃ\\xadlia ou de outras pessoas para financiar meus gastos',\n",
              " 'x23_DEDICACAO_SEMANAL: De oito a doze',\n",
              " 'x23_DEDICACAO_SEMANAL: Mais de doze',\n",
              " 'x23_DEDICACAO_SEMANAL: Nenhuma, apenas assisto Ã\\xa0s aulas',\n",
              " 'x24_GRAU_ACADEMICO_CURSO: Licenciatura',\n",
              " 'x25_REGIAO_ESCOLA_ENSINO_MEDIO: Centro-Oeste',\n",
              " 'x25_REGIAO_ESCOLA_ENSINO_MEDIO: Nordeste',\n",
              " 'x26_GRANDE_AREA_CURSO: Artes e humanidades',\n",
              " 'x26_GRANDE_AREA_CURSO: CiÃªncias naturais, matemÃ¡tica e estatÃ\\xadÂ\\xadstica',\n",
              " 'x26_GRANDE_AREA_CURSO: CiÃªncias sociais, jornalismo e informaÃ§Ã£o',\n",
              " 'x26_GRANDE_AREA_CURSO: ComputaÃ§Ã£o e Tecnologias da InformaÃ§Ã£o e ComunicaÃ§Ã£o (TIC)',\n",
              " 'x26_GRANDE_AREA_CURSO: EducaÃ§Ã£o',\n",
              " 'x26_GRANDE_AREA_CURSO: Engenharia, produÃ§Ã£o e construÃ§Ã£o',\n",
              " 'x26_GRANDE_AREA_CURSO: NegÃ³cios, administraÃ§Ã£o e direito',\n",
              " 'x26_GRANDE_AREA_CURSO: SaÃºde e bem-estar',\n",
              " 'x26_GRANDE_AREA_CURSO: ServiÃ§os',\n",
              " 'x27_DIFERENCA_INICIO_GRADUACAO_FIM_ENSINO_MEDIO: 10 anos ou mais',\n",
              " 'x27_DIFERENCA_INICIO_GRADUACAO_FIM_ENSINO_MEDIO: 2 anos ou menos',\n",
              " 'x27_DIFERENCA_INICIO_GRADUACAO_FIM_ENSINO_MEDIO: Entre 6 e 9 anos',\n",
              " 'x28_FAIXA_ETARIA: 60 anos ou mais',\n",
              " 'x28_FAIXA_ETARIA: Entre 25 e 39 anos',\n",
              " 'x28_FAIXA_ETARIA: Entre 40 e 59 anos']"
            ]
          },
          "metadata": {},
          "execution_count": 13
        }
      ]
    },
    {
      "cell_type": "code",
      "source": [
        "X_train1_best = X_train[best_collector]\n",
        "clf_best = model.fit(X_train1_best,y_train)\n",
        "X_test1 = X_test[best_collector]\n",
        "y_pred = clf_best.predict(X_test1)\n",
        "accuracy = accuracy_score(y_test, y_pred)\n",
        "print(accuracy)"
      ],
      "metadata": {
        "id": "2h44ajzodYXY",
        "colab": {
          "base_uri": "https://localhost:8080/"
        },
        "outputId": "24d4cd1d-b5ef-4257-d504-610a703551a8"
      },
      "execution_count": null,
      "outputs": [
        {
          "output_type": "stream",
          "name": "stdout",
          "text": [
            "0.5718776447829766\n"
          ]
        }
      ]
    },
    {
      "cell_type": "code",
      "source": [
        "0.5937613347841857"
      ],
      "metadata": {
        "id": "zH2OlxrOhZWY"
      },
      "execution_count": null,
      "outputs": []
    },
    {
      "cell_type": "code",
      "source": [
        "clf_full = model.fit(X_train,y_train)\n",
        "y_pred = clf_full.predict(X_test)\n",
        "print(classification_report(y_test, y_pred))"
      ],
      "metadata": {
        "colab": {
          "base_uri": "https://localhost:8080/"
        },
        "id": "G3rIf7rEWY0F",
        "outputId": "2cae1dee-6728-4d6b-8c20-8db80ab2d91e"
      },
      "execution_count": null,
      "outputs": [
        {
          "output_type": "stream",
          "name": "stdout",
          "text": [
            "                                   precision    recall  f1-score   support\n",
            "\n",
            "  TEMPO_GRADUACAO: 8 anos ou mais       0.62      0.68      0.65      2715\n",
            "TEMPO_GRADUACAO: Entre 2 e 4 anos       0.62      0.62      0.62      2810\n",
            "TEMPO_GRADUACAO: Entre 5 e 7 anos       0.47      0.42      0.44      2746\n",
            "\n",
            "                         accuracy                           0.57      8271\n",
            "                        macro avg       0.57      0.57      0.57      8271\n",
            "                     weighted avg       0.57      0.57      0.57      8271\n",
            "\n"
          ]
        }
      ]
    },
    {
      "cell_type": "code",
      "source": [],
      "metadata": {
        "id": "d0gk6EyvWjgd"
      },
      "execution_count": null,
      "outputs": []
    }
  ]
}